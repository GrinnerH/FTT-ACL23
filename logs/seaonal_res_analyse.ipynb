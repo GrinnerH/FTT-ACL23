{
 "cells": [
  {
   "attachments": {},
   "cell_type": "markdown",
   "metadata": {},
   "source": [
    "### Merge experimental results"
   ]
  },
  {
   "cell_type": "code",
   "execution_count": 1,
   "metadata": {},
   "outputs": [],
   "source": [
    "import pandas as pd\n",
    "import os\n",
    "import json\n",
    "\n",
    "import numpy as np"
   ]
  },
  {
   "cell_type": "code",
   "execution_count": 2,
   "metadata": {},
   "outputs": [
    {
     "name": "stdout",
     "output_type": "stream",
     "text": [
      "4\n"
     ]
    }
   ],
   "source": [
    "result_dir = '../logs/json/'\n",
    "\n",
    "dir_names = sorted([name for name in os.listdir(result_dir) \\\n",
    "    if 'bf20' in name])\n",
    "file_paths = sorted([os.path.join(result_dir, name, 'season_1.json') for name in dir_names])\n",
    "\n",
    "print(len(file_paths))"
   ]
  },
  {
   "cell_type": "code",
   "execution_count": 3,
   "metadata": {},
   "outputs": [],
   "source": [
    "\"\"\" all season test together\n",
    "\"\"\"\n",
    "\n",
    "from decimal import Decimal\n",
    "\n",
    "def decimal_float(num):\n",
    "    \"\"\" round-up\n",
    "    \"\"\"\n",
    "    return Decimal(str(num)).quantize(Decimal(\"0.0001\"), rounding = \"ROUND_HALF_UP\")\n",
    "\n",
    "res = []\n",
    "for dir_name in dir_names:\n",
    "    data_name = dir_name\n",
    "    try:\n",
    "        cur_lr_list = pd.read_json(os.path.join(result_dir, dir_name, 'season_1.json'))['lr'].values\n",
    "\n",
    "        season_1_df = pd.read_json(os.path.join(result_dir, dir_name, 'season_1.json'))\n",
    "        season_2_df = pd.read_json(os.path.join(result_dir, dir_name, 'season_2.json'))\n",
    "        season_3_df = pd.read_json(os.path.join(result_dir, dir_name, 'season_3.json'))\n",
    "        season_4_df = pd.read_json(os.path.join(result_dir, dir_name, 'season_4.json'))\n",
    "        season_df_list = [season_1_df, season_2_df, season_3_df, season_4_df]\n",
    "    except:\n",
    "        continue\n",
    "\n",
    "    for lr in cur_lr_list:\n",
    "        cur_lr_res = dict()\n",
    "        cur_lr_res['data_name'] = data_name\n",
    "        cur_lr_res['lr'] = float(str(lr).replace('000000000000001', '').replace('4.9999999999999996', '5'))\n",
    "        cur_lr_season_1 = season_1_df[season_1_df['lr'] == lr].iloc[0]\n",
    "        cur_lr_season_2 = season_2_df[season_2_df['lr'] == lr].iloc[0]\n",
    "        cur_lr_season_3 = season_3_df[season_3_df['lr'] == lr].iloc[0]\n",
    "        cur_lr_season_4 = season_4_df[season_4_df['lr'] == lr].iloc[0]\n",
    "\n",
    "        cur_lr_res['mean_macF1'] = decimal_float((cur_lr_season_1['metric']['metric'] + cur_lr_season_2['metric']['metric'] \\\n",
    "            + cur_lr_season_3['metric']['metric'] + cur_lr_season_4['metric']['metric'])/4)\n",
    "\n",
    "        cur_lr_res['season_1_macF1'] = decimal_float(cur_lr_season_1['metric']['metric'])\n",
    "        cur_lr_res['season_2_macF1'] = decimal_float(cur_lr_season_2['metric']['metric'])\n",
    "        cur_lr_res['season_3_macF1'] = decimal_float(cur_lr_season_3['metric']['metric'])\n",
    "        cur_lr_res['season_4_macF1'] = decimal_float(cur_lr_season_4['metric']['metric'])\n",
    "\n",
    "        res.append(cur_lr_res)\n",
    "\n",
    "csv_path = './seasonal_res_compare.csv'\n",
    "pd.DataFrame(res).to_csv(csv_path ,sep='\\t', index=False)"
   ]
  }
 ],
 "metadata": {
  "kernelspec": {
   "display_name": "py3.10",
   "language": "python",
   "name": "python3"
  },
  "language_info": {
   "codemirror_mode": {
    "name": "ipython",
    "version": 3
   },
   "file_extension": ".py",
   "mimetype": "text/x-python",
   "name": "python",
   "nbconvert_exporter": "python",
   "pygments_lexer": "ipython3",
   "version": "3.10.0"
  },
  "orig_nbformat": 4
 },
 "nbformat": 4,
 "nbformat_minor": 2
}
